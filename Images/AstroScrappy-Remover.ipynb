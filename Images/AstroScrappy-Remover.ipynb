{
 "cells": [
  {
   "cell_type": "markdown",
   "id": "ba138fa2-d76a-4bb2-ae94-a44c31249f2a",
   "metadata": {},
   "source": [
    "# 2MASX J15220246+5010185 Astroscrappy CR Remover"
   ]
  },
  {
   "cell_type": "markdown",
   "id": "154a4134-7787-4470-b047-d771a3ed0522",
   "metadata": {},
   "source": [
    "## Imports"
   ]
  },
  {
   "cell_type": "code",
   "execution_count": null,
   "id": "f07896bd-434d-4e52-bda5-5bf65b219a20",
   "metadata": {
    "tags": []
   },
   "outputs": [],
   "source": [
    "# Python Imports\n",
    "import os\n",
    "from pathlib import Path\n",
    "\n",
    "# Astropy Colab Imports\n",
    "from astropy.io import fits\n",
    "from astropy.visualization import ImageNormalize, SqrtStretch\n",
    "\n",
    "# Other Astronomy Imports\n",
    "from astroscrappy import detect_cosmics\n",
    "\n",
    "# Plotting Imports\n",
    "from matplotlib import pyplot as plt"
   ]
  },
  {
   "cell_type": "markdown",
   "id": "9f1ed511",
   "metadata": {},
   "source": [
    "## Notebook Setup"
   ]
  },
  {
   "cell_type": "code",
   "execution_count": null,
   "id": "d8e2d43d",
   "metadata": {},
   "outputs": [],
   "source": [
    "# Check Directory\n",
    "if Path.cwd().name != \"Images\":\n",
    "    if Path.cwd().name == \"Notebooks\":\n",
    "        os.chdir(\"../Images\")\n",
    "    else:\n",
    "        RuntimeError(\"This notebook must be run from the Images directory.\")\n",
    "print(f\"Current Directory: {Path.cwd()}\")"
   ]
  },
  {
   "cell_type": "code",
   "execution_count": null,
   "id": "5f83cda3-7e07-4327-a3a9-b4f9c6e03f45",
   "metadata": {
    "tags": []
   },
   "outputs": [],
   "source": [
    "# Data Directory\n",
    "DATA_DIR = Path('mastDownload/HST')\n",
    "\n",
    "# FLC Glob Pattern\n",
    "FLC_GLOB = list(DATA_DIR.rglob('*[!crclean]_fl?.fits'))"
   ]
  },
  {
   "cell_type": "markdown",
   "id": "71e1e0cc-def2-4633-898e-88e0bf1bdfa7",
   "metadata": {},
   "source": [
    "## Store File Name Data"
   ]
  },
  {
   "cell_type": "code",
   "execution_count": null,
   "id": "8ef223ba-4363-44cb-b5d1-b640886c9df1",
   "metadata": {
    "tags": []
   },
   "outputs": [],
   "source": [
    "# Get the File Names and Sort them by filter\n",
    "fileNameDict = {}\n",
    "for fn in FLC_GLOB:\n",
    "\n",
    "    # Open the file to get the filter\n",
    "    with fits.open(fn) as hduList:\n",
    "        hdr = hduList[0].header  # Get the Header\n",
    "        if 'FILTER' in hdr:      # If the FILTER keyword exists (WFC3)\n",
    "            filt = hdr['FILTER']\n",
    "        elif 'CLEAR' not in hdr['FILTER1']:  # If FILTER1 is not clear (ACS)\n",
    "            filt = hdr['FILTER1']\n",
    "        else:                                # Else FILTER2 must be the filter (ACS)\n",
    "            filt = hdr['FILTER2']\n",
    "\n",
    "    # Store the Name using the filter as the dict key\n",
    "    # Start the Empty List if Key does not exist\n",
    "    if filt not in fileNameDict:\n",
    "        fileNameDict[filt] = []\n",
    "    fileNameDict[filt].append(fn)\n",
    "fileNameDict"
   ]
  },
  {
   "cell_type": "markdown",
   "id": "87c53c16-9427-431d-a45e-73ec338a8667",
   "metadata": {},
   "source": [
    "## Remove CRs"
   ]
  },
  {
   "cell_type": "markdown",
   "id": "900d6939-e570-4f1d-911c-ce8473e093dd",
   "metadata": {},
   "source": [
    "### Remove F814W CRs"
   ]
  },
  {
   "cell_type": "code",
   "execution_count": null,
   "id": "e566fc7d",
   "metadata": {},
   "outputs": [],
   "source": [
    "# Close Figures\n",
    "plt.close('all')\n",
    "\n",
    "# Plotting Parameters\n",
    "IMG_SLICE = slice(900, 900+256), slice(700, 700+256)\n",
    "norm = ImageNormalize(vmin=0, vmax=500, stretch=SqrtStretch())\n",
    "\n",
    "# Plot a Sample Image Before CR Removal\n",
    "dispFileName = fileNameDict['F814W'][0]\n",
    "with fits.open(dispFileName) as hduList:\n",
    "    plt.imshow(hduList['SCI', 1].data[IMG_SLICE], cmap='gray', norm=norm, origin='lower')"
   ]
  },
  {
   "cell_type": "code",
   "execution_count": null,
   "id": "d6f4bd58-0298-4b24-9ad5-db20fa978a5c",
   "metadata": {
    "tags": []
   },
   "outputs": [],
   "source": [
    "# Input Parameters for AstroScrappy\n",
    "# These parameters were found by trial and error to give good results\n",
    "# See https://astroscrappy.readthedocs.io/en/latest/api.html#astroscrappy.detect_cosmics\n",
    "# for more information on the parameters\n",
    "ascrap_params = {\n",
    "    'sigclip':      4.0,        # The sigma clipping threshold for cosmic ray detection.        Default: 4.5\n",
    "    'sigfrac':      0.15,       # Fractional detection limit for neighboring pixels.            Default: 0.3\n",
    "    'objlim':      10.0,        # Minimum contrast between a cosmic ray and its neighbors.      Default: 5.0\n",
    "    'readnoise':    5.0,        # Read noise of the CCD in electrons.                           Default: 6.5    # 5.0 from the ACS Handbook\n",
    "    'niter':        9,          # Number of iterations for the cleaning process.                Default: 4\n",
    "    'sepmed':       True,       # Whether to use a separate median filter for detection.        Default: True\n",
    "    'cleantype':    'medmask',  # Type of cleaning to perform ('medmask', 'medsub', or 'meanmask').  Default: 'meanmask'\n",
    "    'fsmode':       'median',   # Type of filter to use ('median' or 'convolve').               Default: 'median'\n",
    "    'verbose':      False,      # Whether to print verbose output.                              Default: False\n",
    "\n",
    "    # These are only used if fsmode is 'convolve'\n",
    "    'psfmodel':     'gauss',    # Type of PSF model to use ('gauss' or 'moffat').               Default: 'gauss'\n",
    "    'psffwhm':      3.5,        # FWHM of the PSF model in pixels.                              Default: 2.5\n",
    "    'psfsize':      11,         # Size of the PSF model array in pixels.                        Default: 7\n",
    "}\n",
    "\n",
    "# Loop Through Files\n",
    "for fn in fileNameDict['F814W']:\n",
    "\n",
    "    # Out Name\n",
    "    outName = fn.with_name(fn.name.replace('flc.fits', 'crclean_flc.fits'))\n",
    "\n",
    "    # Open Image\n",
    "    with fits.open(fn) as hduList:\n",
    "\n",
    "        # Get Cleaned Arrays\n",
    "        crmsk1, crarr1 = detect_cosmics(\n",
    "            hduList['SCI', 1].data, invar=hduList['ERR', 1].data**2,\n",
    "            **ascrap_params\n",
    "        )\n",
    "        crmsk2, crarr2 = detect_cosmics(\n",
    "            hduList['SCI', 2].data, invar=hduList['ERR', 2].data**2,\n",
    "            **ascrap_params\n",
    "        )\n",
    "\n",
    "        # Write the Output Data\n",
    "        outList = hduList.copy()  # Copy the Original File\n",
    "        outList[0].header.add_history('CRs removed with DeepCR')  # Update comment about processing\n",
    "        outList[0].header.add_comment('Created by Will Waldron, UAH')\n",
    "        outList[0].header.add_comment('Created with pipeline at https://github.com/wwaldron/galred')\n",
    "        outList['SCI', 1].data = crarr1.astype('float32')  # Change the old SCI image for CR Removed img\n",
    "        outList['DQ', 1].data[crmsk1.astype(bool)] |= 2**14  # Mark DQ array as \"User Mask\"\n",
    "        outList.insert(4, fits.ImageHDU(crmsk1.astype('uint8'), hduList['SCI', 1].header, 'MSK'))\n",
    "        outList['SCI', 2].data = crarr2.astype('float32')\n",
    "        outList['DQ', 2].data[crmsk1.astype(bool)] |= 2**14  # Mark DQ array as \"User Mask\"\n",
    "        outList.insert(8, fits.ImageHDU(crmsk2.astype('uint8'), hduList['SCI', 2].header, 'MSK'))\n",
    "        outList.writeto(outName, overwrite=True)"
   ]
  },
  {
   "cell_type": "code",
   "execution_count": null,
   "id": "6e5f3582",
   "metadata": {},
   "outputs": [],
   "source": [
    "# Plot a Sample Image Before CR Removal\n",
    "with fits.open(dispFileName.with_name(dispFileName.name.replace('_flc', '_crclean_flc'))) as hduList:\n",
    "    plt.imshow(hduList['SCI', 1].data[IMG_SLICE], cmap='gray', norm=norm, origin='lower')"
   ]
  },
  {
   "cell_type": "markdown",
   "id": "c892a8a2-b8d8-4474-a397-81f5d29fd12a",
   "metadata": {},
   "source": [
    "### Remove F475W CRs"
   ]
  },
  {
   "cell_type": "code",
   "execution_count": null,
   "id": "6752390e",
   "metadata": {},
   "outputs": [],
   "source": [
    "# Close Figures\n",
    "plt.close('all')\n",
    "\n",
    "# Plotting Parameters\n",
    "IMG_SLICE = slice(900, 900+256), slice(700, 700+256)\n",
    "norm = ImageNormalize(vmin=0, vmax=750, stretch=SqrtStretch())\n",
    "\n",
    "# Plot a Sample Image Before CR Removal\n",
    "dispFileName = fileNameDict['F475W'][0]\n",
    "with fits.open(dispFileName) as hduList:\n",
    "    plt.imshow(hduList['SCI', 1].data[IMG_SLICE], cmap='gray', norm=norm, origin='lower')"
   ]
  },
  {
   "cell_type": "code",
   "execution_count": null,
   "id": "5edfa6af-b193-4be9-bb9c-4768b00e56f7",
   "metadata": {
    "tags": []
   },
   "outputs": [],
   "source": [
    "# Loop Through Files\n",
    "for fn in fileNameDict['F475W']:\n",
    "\n",
    "    # Out Name\n",
    "    outName = fn.with_name(fn.name.replace('flc.fits', 'crclean_flc.fits'))\n",
    "\n",
    "    # Open Image\n",
    "    with fits.open(fn) as hduList:\n",
    "\n",
    "        # Get Cleaned Arrays\n",
    "        crmsk1, crarr1 = detect_cosmics(\n",
    "            hduList['SCI', 1].data, invar=hduList['ERR', 1].data**2,\n",
    "            **ascrap_params\n",
    "        )\n",
    "        crmsk2, crarr2 = detect_cosmics(\n",
    "            hduList['SCI', 2].data, invar=hduList['ERR', 2].data**2,\n",
    "            **ascrap_params\n",
    "        )\n",
    "\n",
    "        # Write the Output Data\n",
    "        outList = hduList.copy()  # Copy the Original File\n",
    "        outList[0].header.add_history('CRs removed with DeepCR')  # Update comment about processing\n",
    "        outList[0].header.add_comment('Created by Will Waldron, UAH')\n",
    "        outList[0].header.add_comment('Created with pipeline at https://github.com/wwaldron/galred')\n",
    "        outList['SCI', 1].data = crarr1.astype('float32')  # Change the old SCI image for CR Removed img\n",
    "        outList['DQ', 1].data[crmsk1.astype(bool)] |= 2**14  # Mark DQ array as \"User Mask\"\n",
    "        outList.insert(4, fits.ImageHDU(crmsk1.astype('uint8'), hduList['SCI', 1].header, 'MSK'))\n",
    "        outList['SCI', 2].data = crarr2.astype('float32')\n",
    "        outList['DQ', 2].data[crmsk1.astype(bool)] |= 2**14  # Mark DQ array as \"User Mask\"\n",
    "        outList.insert(8, fits.ImageHDU(crmsk2.astype('uint8'), hduList['SCI', 2].header, 'MSK'))\n",
    "        outList.writeto(outName, overwrite=True)"
   ]
  },
  {
   "cell_type": "code",
   "execution_count": null,
   "id": "3247a03b",
   "metadata": {},
   "outputs": [],
   "source": [
    "# Plot a Sample Image Before CR Removal\n",
    "with fits.open(dispFileName.with_name(dispFileName.name.replace('_flc', '_crclean_flc'))) as hduList:\n",
    "    plt.imshow(hduList['SCI', 1].data[IMG_SLICE], cmap='gray', norm=norm, origin='lower')"
   ]
  },
  {
   "cell_type": "markdown",
   "id": "184d843b",
   "metadata": {},
   "source": [
    "### Remove F275W CRs"
   ]
  },
  {
   "cell_type": "code",
   "execution_count": null,
   "id": "83a3f88e",
   "metadata": {},
   "outputs": [],
   "source": [
    "# Close Figures\n",
    "plt.close('all')\n",
    "\n",
    "# Plotting Parameters\n",
    "IMG_SLICE = slice(1000, 1000+256), slice(2140, 2140+256)\n",
    "norm = ImageNormalize(vmin=0, vmax=250, stretch=SqrtStretch())\n",
    "\n",
    "# Plot a Sample Image Before CR Removal\n",
    "dispFileName = fileNameDict['F275W'][0]\n",
    "with fits.open(dispFileName) as hduList:\n",
    "    plt.imshow(hduList['SCI', 2].data[IMG_SLICE], cmap='gray', norm=norm, origin='lower')"
   ]
  },
  {
   "cell_type": "code",
   "execution_count": null,
   "id": "4a62a57e",
   "metadata": {},
   "outputs": [],
   "source": [
    "# Input Parameters for AstroScrappy\n",
    "# These parameters were found by trial and error to give good results\n",
    "# See https://astroscrappy.readthedocs.io/en/latest/api.html#astroscrappy.detect_cosmics\n",
    "# for more information on the parameters\n",
    "ascrap_params = {\n",
    "    'sigclip':      4.0,        # The sigma clipping threshold for cosmic ray detection.        Default: 4.5\n",
    "    'sigfrac':      0.15,       # Fractional detection limit for neighboring pixels.            Default: 0.3\n",
    "    'objlim':       5.0,        # Minimum contrast between a cosmic ray and its neighbors.      Default: 5.0\n",
    "    'readnoise':    3.0,        # Read noise of the CCD in electrons.                           Default: 6.5    # 3.0 from the WFC3 Handbook\n",
    "    'niter':        9,          # Number of iterations for the cleaning process.                Default: 4\n",
    "    'sepmed':       True,       # Whether to use a separate median filter for detection.        Default: True\n",
    "    'cleantype':    'medmask',  # Type of cleaning to perform ('medmask', 'medsub', or 'meanmask').  Default: 'meanmask'\n",
    "    'fsmode':       'median',   # Type of filter to use ('median' or 'convolve').               Default: 'median'\n",
    "    'verbose':      False,      # Whether to print verbose output.                              Default: False\n",
    "\n",
    "    # These are only used if fsmode is 'convolve'\n",
    "    'psfmodel':     'gauss',    # Type of PSF model to use ('gauss' or 'moffat').               Default: 'gauss'\n",
    "    'psffwhm':      3.5,        # FWHM of the PSF model in pixels.                              Default: 2.5\n",
    "    'psfsize':      11,         # Size of the PSF model array in pixels.                        Default: 7\n",
    "}\n",
    "\n",
    "# Loop Through Files\n",
    "for fn in fileNameDict['F275W']:\n",
    "\n",
    "    # Out Name\n",
    "    outName = fn.with_name(fn.name.replace('flc.fits', 'crclean_flc.fits'))\n",
    "\n",
    "    # Open Image\n",
    "    with fits.open(fn) as hduList:\n",
    "\n",
    "        # Get Cleaned Arrays\n",
    "        crmsk1, crarr1 = detect_cosmics(\n",
    "            hduList['SCI', 1].data, invar=hduList['ERR', 1].data**2,\n",
    "            **ascrap_params\n",
    "        )\n",
    "        crmsk2, crarr2 = detect_cosmics(\n",
    "            hduList['SCI', 2].data, invar=hduList['ERR', 2].data**2,\n",
    "            **ascrap_params\n",
    "        )\n",
    "\n",
    "        # Write the Output Data\n",
    "        outList = hduList.copy()  # Copy the Original File\n",
    "        outList[0].header.add_history('CRs removed with DeepCR')  # Update comment about processing\n",
    "        outList[0].header.add_comment('Created by Will Waldron, UAH')\n",
    "        outList[0].header.add_comment('Created with pipeline at https://github.com/wwaldron/galred')\n",
    "        outList['SCI', 1].data = crarr1.astype('float32')  # Change the old SCI image for CR Removed img\n",
    "        outList['DQ', 1].data[crmsk1.astype(bool)] |= 2**14  # Mark DQ array as \"User Mask\"\n",
    "        outList.insert(4, fits.ImageHDU(crmsk1.astype('uint8'), hduList['SCI', 1].header, 'MSK'))\n",
    "        outList['SCI', 2].data = crarr2.astype('float32')\n",
    "        outList['DQ', 2].data[crmsk1.astype(bool)] |= 2**14  # Mark DQ array as \"User Mask\"\n",
    "        outList.insert(8, fits.ImageHDU(crmsk2.astype('uint8'), hduList['SCI', 2].header, 'MSK'))\n",
    "        outList.writeto(outName, overwrite=True)"
   ]
  },
  {
   "cell_type": "code",
   "execution_count": null,
   "id": "74ec3f19",
   "metadata": {},
   "outputs": [],
   "source": [
    "# Plot a Sample Image Before CR Removal\n",
    "with fits.open(dispFileName.with_name(dispFileName.name.replace('_flc', '_crclean_flc'))) as hduList:\n",
    "    plt.imshow(hduList['SCI', 2].data[IMG_SLICE], cmap='gray', norm=norm, origin='lower')"
   ]
  }
 ],
 "metadata": {
  "kernelspec": {
   "display_name": "stenv",
   "language": "python",
   "name": "python3"
  },
  "language_info": {
   "codemirror_mode": {
    "name": "ipython",
    "version": 3
   },
   "file_extension": ".py",
   "mimetype": "text/x-python",
   "name": "python",
   "nbconvert_exporter": "python",
   "pygments_lexer": "ipython3",
   "version": "3.12.4"
  }
 },
 "nbformat": 4,
 "nbformat_minor": 5
}
