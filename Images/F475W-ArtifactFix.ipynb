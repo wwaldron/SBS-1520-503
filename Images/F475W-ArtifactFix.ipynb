{
 "cells": [
  {
   "cell_type": "markdown",
   "id": "03f5fc2f",
   "metadata": {},
   "source": [
    "# F475W Artifact Fix\n",
    "\n",
    "One of the F475W images (`jera01hgq_flc.fits`) has a dark artifact right over the Sb galaxy to the NE.\n",
    "This notebook seeks to note that on the associated DQ array."
   ]
  },
  {
   "cell_type": "code",
   "execution_count": null,
   "id": "24b58e58",
   "metadata": {},
   "outputs": [],
   "source": [
    "# Astropy Imports\n",
    "from astropy.io import fits"
   ]
  },
  {
   "cell_type": "code",
   "execution_count": null,
   "id": "11dde3ed",
   "metadata": {},
   "outputs": [],
   "source": [
    "# Load the Data\n",
    "SLICE_MSK      = slice(1022, 1024), slice(2039, 2043)\n",
    "BAD_READ_VALUE = 36.11276\n",
    "with fits.open('mastDownload/HST/jera01hgq/jera01hgq_crclean_flc.fits', mode='update') as hduList:\n",
    "\n",
    "    # Get the Image and DQ Array\n",
    "    image = hduList['SCI', 2].data\n",
    "\n",
    "    # Fix the Bad Reads in the DQ Array\n",
    "    hduList['DQ', 2].data[SLICE_MSK][image[SLICE_MSK] == BAD_READ_VALUE] |= 2"
   ]
  }
 ],
 "metadata": {
  "kernelspec": {
   "display_name": "stenv",
   "language": "python",
   "name": "python3"
  },
  "language_info": {
   "codemirror_mode": {
    "name": "ipython",
    "version": 3
   },
   "file_extension": ".py",
   "mimetype": "text/x-python",
   "name": "python",
   "nbconvert_exporter": "python",
   "pygments_lexer": "ipython3",
   "version": "3.12.4"
  }
 },
 "nbformat": 4,
 "nbformat_minor": 5
}
